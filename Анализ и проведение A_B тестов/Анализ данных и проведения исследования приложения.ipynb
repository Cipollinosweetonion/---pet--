{
 "cells": [
  {
   "cell_type": "markdown",
   "id": "64d5e25b-64a0-4d65-b063-55a20e08a207",
   "metadata": {},
   "source": [
    "# Содержание"
   ]
  },
  {
   "cell_type": "markdown",
   "id": "0bc7fe9d-1c10-4339-8468-ce5d4be317d1",
   "metadata": {},
   "source": [
    "## Описательный анализ данных\n",
    "\n",
    "1. Анализ контрольной и тестовой группы\n",
    "2. Построение графиков\n",
    "\n",
    "## Расчет метрик\n",
    "\n",
    "1. Расчет метрик конверсии контрольной группы\n",
    "2. Расчет среднего дохода контрольной группы\n",
    "3. Расчет средней временной сессии контрольной группы\n",
    "\n",
    "4. Расчет метрик конверсии тестовой группы\n",
    "5. Расчет среднего дохода тестовой группы\n",
    "6. Расчет средней временной сессии тестовой группы\n",
    "\n",
    "## Проведение A/B тестов\n",
    "\n",
    "7. Выдвижение гипотез\n",
    "8. Проведение A/B тестов\n",
    "\n",
    "## Выводы\n",
    "\n",
    "\n",
    "\n",
    "\n",
    "\n",
    "\n",
    "\n",
    "\n",
    "\n",
    "\n",
    "\n"
   ]
  },
  {
   "cell_type": "markdown",
   "id": "9d5e53e2-caf4-4400-ac61-b9746f868b5f",
   "metadata": {},
   "source": [
    "\n",
    "\n",
    "\n",
    "\n",
    "\n",
    "## Описание данных"
   ]
  },
  {
   "cell_type": "markdown",
   "id": "80805301-ef5c-42ed-8de4-8a145277e357",
   "metadata": {},
   "source": [
    "<b>Синтетические данные для анализа продаж в интерент - магазине</b>\n",
    "\n",
    "<b>Задача:</b> Проанализировать датасет и провестити A/B тесты для выявления различий между старой и новой рекомендательной системой.\n",
    "\n",
    "Столбцы датасета:\n",
    "\n",
    "user_id: уникальный идентификатор пользователя\n",
    "\n",
    "group: столбец контрольная/тесовая группа\n",
    "\n",
    "visited_homepage: зашел ли пользователь на главную страницу (0/1)\n",
    "\n",
    "clicked_recommendation: кликнул ли на рекомендательный товар (0/1)\n",
    "\n",
    "added_to_cart: Добавил ли рекомендательный товар в корзину (0/1)\n",
    "\n",
    "purchased: был ли выкуплен товар (0/1)\n",
    "\n",
    "purchase_amount: сумма покупки\n",
    "\n",
    "session_duration_sec: длительной сессии проведенной в оналйн - магазине (секунды) \n",
    "\n",
    "device: устройство с которого пользователь посещал магазин (mobile/desktop)\n",
    "\n",
    "user_category: категория пользователя (loyal/new/returning)"
   ]
  },
  {
   "cell_type": "markdown",
   "id": "a1aaccf9-be0d-48cd-8078-255d5c6903f3",
   "metadata": {},
   "source": [
    "# Описательный анализ"
   ]
  },
  {
   "cell_type": "code",
   "execution_count": 1,
   "id": "21ccee2c-9440-4be0-ae7e-0dc22daf7966",
   "metadata": {},
   "outputs": [],
   "source": [
    "import pandas as pd\n",
    "import numpy as np\n",
    "import matplotlib.pyplot as plt\n",
    "from statsmodels.stats.proportion import proportions_ztest\n",
    "from scipy import stats"
   ]
  },
  {
   "cell_type": "code",
   "execution_count": 2,
   "id": "9ace1281-c01e-4193-8201-75bec7549f1c",
   "metadata": {},
   "outputs": [
    {
     "data": {
      "text/html": [
       "<div>\n",
       "<style scoped>\n",
       "    .dataframe tbody tr th:only-of-type {\n",
       "        vertical-align: middle;\n",
       "    }\n",
       "\n",
       "    .dataframe tbody tr th {\n",
       "        vertical-align: top;\n",
       "    }\n",
       "\n",
       "    .dataframe thead th {\n",
       "        text-align: right;\n",
       "    }\n",
       "</style>\n",
       "<table border=\"1\" class=\"dataframe\">\n",
       "  <thead>\n",
       "    <tr style=\"text-align: right;\">\n",
       "      <th></th>\n",
       "      <th>user_id</th>\n",
       "      <th>group</th>\n",
       "      <th>visited_homepage</th>\n",
       "      <th>clicked_recommendation</th>\n",
       "      <th>added_to_cart</th>\n",
       "      <th>purchased</th>\n",
       "      <th>purchase_amount</th>\n",
       "      <th>session_duration_sec</th>\n",
       "      <th>device</th>\n",
       "      <th>user_category</th>\n",
       "    </tr>\n",
       "  </thead>\n",
       "  <tbody>\n",
       "    <tr>\n",
       "      <th>0</th>\n",
       "      <td>1</td>\n",
       "      <td>Control</td>\n",
       "      <td>0</td>\n",
       "      <td>0</td>\n",
       "      <td>0</td>\n",
       "      <td>0</td>\n",
       "      <td>0</td>\n",
       "      <td>342</td>\n",
       "      <td>mobile</td>\n",
       "      <td>loyal</td>\n",
       "    </tr>\n",
       "    <tr>\n",
       "      <th>1</th>\n",
       "      <td>2</td>\n",
       "      <td>Test</td>\n",
       "      <td>1</td>\n",
       "      <td>0</td>\n",
       "      <td>0</td>\n",
       "      <td>0</td>\n",
       "      <td>0</td>\n",
       "      <td>548</td>\n",
       "      <td>desktop</td>\n",
       "      <td>new</td>\n",
       "    </tr>\n",
       "    <tr>\n",
       "      <th>2</th>\n",
       "      <td>3</td>\n",
       "      <td>Control</td>\n",
       "      <td>1</td>\n",
       "      <td>0</td>\n",
       "      <td>0</td>\n",
       "      <td>0</td>\n",
       "      <td>0</td>\n",
       "      <td>235</td>\n",
       "      <td>mobile</td>\n",
       "      <td>new</td>\n",
       "    </tr>\n",
       "    <tr>\n",
       "      <th>3</th>\n",
       "      <td>4</td>\n",
       "      <td>Control</td>\n",
       "      <td>1</td>\n",
       "      <td>0</td>\n",
       "      <td>0</td>\n",
       "      <td>0</td>\n",
       "      <td>0</td>\n",
       "      <td>404</td>\n",
       "      <td>mobile</td>\n",
       "      <td>new</td>\n",
       "    </tr>\n",
       "    <tr>\n",
       "      <th>4</th>\n",
       "      <td>5</td>\n",
       "      <td>Control</td>\n",
       "      <td>1</td>\n",
       "      <td>1</td>\n",
       "      <td>1</td>\n",
       "      <td>0</td>\n",
       "      <td>0</td>\n",
       "      <td>480</td>\n",
       "      <td>mobile</td>\n",
       "      <td>new</td>\n",
       "    </tr>\n",
       "    <tr>\n",
       "      <th>...</th>\n",
       "      <td>...</td>\n",
       "      <td>...</td>\n",
       "      <td>...</td>\n",
       "      <td>...</td>\n",
       "      <td>...</td>\n",
       "      <td>...</td>\n",
       "      <td>...</td>\n",
       "      <td>...</td>\n",
       "      <td>...</td>\n",
       "      <td>...</td>\n",
       "    </tr>\n",
       "    <tr>\n",
       "      <th>1995</th>\n",
       "      <td>1996</td>\n",
       "      <td>Control</td>\n",
       "      <td>1</td>\n",
       "      <td>1</td>\n",
       "      <td>0</td>\n",
       "      <td>0</td>\n",
       "      <td>0</td>\n",
       "      <td>155</td>\n",
       "      <td>desktop</td>\n",
       "      <td>new</td>\n",
       "    </tr>\n",
       "    <tr>\n",
       "      <th>1996</th>\n",
       "      <td>1997</td>\n",
       "      <td>Test</td>\n",
       "      <td>0</td>\n",
       "      <td>0</td>\n",
       "      <td>0</td>\n",
       "      <td>0</td>\n",
       "      <td>0</td>\n",
       "      <td>442</td>\n",
       "      <td>desktop</td>\n",
       "      <td>new</td>\n",
       "    </tr>\n",
       "    <tr>\n",
       "      <th>1997</th>\n",
       "      <td>1998</td>\n",
       "      <td>Control</td>\n",
       "      <td>1</td>\n",
       "      <td>0</td>\n",
       "      <td>0</td>\n",
       "      <td>0</td>\n",
       "      <td>0</td>\n",
       "      <td>528</td>\n",
       "      <td>desktop</td>\n",
       "      <td>returning</td>\n",
       "    </tr>\n",
       "    <tr>\n",
       "      <th>1998</th>\n",
       "      <td>1999</td>\n",
       "      <td>Control</td>\n",
       "      <td>1</td>\n",
       "      <td>0</td>\n",
       "      <td>0</td>\n",
       "      <td>0</td>\n",
       "      <td>0</td>\n",
       "      <td>454</td>\n",
       "      <td>desktop</td>\n",
       "      <td>new</td>\n",
       "    </tr>\n",
       "    <tr>\n",
       "      <th>1999</th>\n",
       "      <td>2000</td>\n",
       "      <td>Control</td>\n",
       "      <td>1</td>\n",
       "      <td>0</td>\n",
       "      <td>0</td>\n",
       "      <td>0</td>\n",
       "      <td>0</td>\n",
       "      <td>583</td>\n",
       "      <td>mobile</td>\n",
       "      <td>returning</td>\n",
       "    </tr>\n",
       "  </tbody>\n",
       "</table>\n",
       "<p>2000 rows × 10 columns</p>\n",
       "</div>"
      ],
      "text/plain": [
       "      user_id    group  visited_homepage  clicked_recommendation  \\\n",
       "0           1  Control                 0                       0   \n",
       "1           2     Test                 1                       0   \n",
       "2           3  Control                 1                       0   \n",
       "3           4  Control                 1                       0   \n",
       "4           5  Control                 1                       1   \n",
       "...       ...      ...               ...                     ...   \n",
       "1995     1996  Control                 1                       1   \n",
       "1996     1997     Test                 0                       0   \n",
       "1997     1998  Control                 1                       0   \n",
       "1998     1999  Control                 1                       0   \n",
       "1999     2000  Control                 1                       0   \n",
       "\n",
       "      added_to_cart  purchased  purchase_amount  session_duration_sec  \\\n",
       "0                 0          0                0                   342   \n",
       "1                 0          0                0                   548   \n",
       "2                 0          0                0                   235   \n",
       "3                 0          0                0                   404   \n",
       "4                 1          0                0                   480   \n",
       "...             ...        ...              ...                   ...   \n",
       "1995              0          0                0                   155   \n",
       "1996              0          0                0                   442   \n",
       "1997              0          0                0                   528   \n",
       "1998              0          0                0                   454   \n",
       "1999              0          0                0                   583   \n",
       "\n",
       "       device user_category  \n",
       "0      mobile         loyal  \n",
       "1     desktop           new  \n",
       "2      mobile           new  \n",
       "3      mobile           new  \n",
       "4      mobile           new  \n",
       "...       ...           ...  \n",
       "1995  desktop           new  \n",
       "1996  desktop           new  \n",
       "1997  desktop     returning  \n",
       "1998  desktop           new  \n",
       "1999   mobile     returning  \n",
       "\n",
       "[2000 rows x 10 columns]"
      ]
     },
     "execution_count": 2,
     "metadata": {},
     "output_type": "execute_result"
    }
   ],
   "source": [
    "data = pd.read_csv(r'ab_test_recommendations.csv')\n",
    "data"
   ]
  },
  {
   "cell_type": "code",
   "execution_count": 3,
   "id": "fd2f0ddc-f5f9-4eb0-b130-05048031ece3",
   "metadata": {},
   "outputs": [
    {
     "data": {
      "text/plain": [
       "user_id                   0\n",
       "group                     0\n",
       "visited_homepage          0\n",
       "clicked_recommendation    0\n",
       "added_to_cart             0\n",
       "purchased                 0\n",
       "purchase_amount           0\n",
       "session_duration_sec      0\n",
       "device                    0\n",
       "user_category             0\n",
       "dtype: int64"
      ]
     },
     "execution_count": 3,
     "metadata": {},
     "output_type": "execute_result"
    }
   ],
   "source": [
    "data.isnull().sum()"
   ]
  },
  {
   "cell_type": "code",
   "execution_count": 4,
   "id": "8a78b400-435c-4b10-81a0-cb977f66375a",
   "metadata": {},
   "outputs": [
    {
     "name": "stdout",
     "output_type": "stream",
     "text": [
      "<class 'pandas.core.frame.DataFrame'>\n",
      "RangeIndex: 2000 entries, 0 to 1999\n",
      "Data columns (total 10 columns):\n",
      " #   Column                  Non-Null Count  Dtype \n",
      "---  ------                  --------------  ----- \n",
      " 0   user_id                 2000 non-null   int64 \n",
      " 1   group                   2000 non-null   object\n",
      " 2   visited_homepage        2000 non-null   int64 \n",
      " 3   clicked_recommendation  2000 non-null   int64 \n",
      " 4   added_to_cart           2000 non-null   int64 \n",
      " 5   purchased               2000 non-null   int64 \n",
      " 6   purchase_amount         2000 non-null   int64 \n",
      " 7   session_duration_sec    2000 non-null   int64 \n",
      " 8   device                  2000 non-null   object\n",
      " 9   user_category           2000 non-null   object\n",
      "dtypes: int64(7), object(3)\n",
      "memory usage: 156.4+ KB\n"
     ]
    }
   ],
   "source": [
    "data.info()"
   ]
  },
  {
   "cell_type": "code",
   "execution_count": 5,
   "id": "45041ef7-034b-4776-a7c1-bf6715a1d6c4",
   "metadata": {},
   "outputs": [
    {
     "data": {
      "text/html": [
       "<div>\n",
       "<style scoped>\n",
       "    .dataframe tbody tr th:only-of-type {\n",
       "        vertical-align: middle;\n",
       "    }\n",
       "\n",
       "    .dataframe tbody tr th {\n",
       "        vertical-align: top;\n",
       "    }\n",
       "\n",
       "    .dataframe thead th {\n",
       "        text-align: right;\n",
       "    }\n",
       "</style>\n",
       "<table border=\"1\" class=\"dataframe\">\n",
       "  <thead>\n",
       "    <tr style=\"text-align: right;\">\n",
       "      <th>group</th>\n",
       "      <th>Control</th>\n",
       "      <th>Test</th>\n",
       "    </tr>\n",
       "  </thead>\n",
       "  <tbody>\n",
       "    <tr>\n",
       "      <th>count</th>\n",
       "      <td>1016</td>\n",
       "      <td>984</td>\n",
       "    </tr>\n",
       "  </tbody>\n",
       "</table>\n",
       "</div>"
      ],
      "text/plain": [
       "group  Control  Test\n",
       "count     1016   984"
      ]
     },
     "execution_count": 5,
     "metadata": {},
     "output_type": "execute_result"
    }
   ],
   "source": [
    "data_group = data['group'].value_counts().to_frame().T \n",
    "data_group"
   ]
  },
  {
   "cell_type": "code",
   "execution_count": 6,
   "id": "946e01e3-e68d-4af3-b09a-3d8a46d06d3d",
   "metadata": {},
   "outputs": [
    {
     "data": {
      "image/png": "[encoded data removed]",
      "text/plain": [
       "<Figure size 1000x500 with 1 Axes>"
      ]
     },
     "metadata": {},
     "output_type": "display_data"
    }
   ],
   "source": [
    "data_user_category = data.groupby(['group', 'user_category'])['user_category'].count().unstack()\n",
    "data_user_category.plot(kind='bar', figsize=(10, 5))\n",
    "\n",
    "plt.legend(loc='upper right')  # или просто plt.legend()\n",
    "\n",
    "# Дополнительные настройки\n",
    "plt.xlabel('Группы')\n",
    "plt.ylabel('Количество пользователей')\n",
    "plt.title('Количество пользователей в группах')\n",
    "plt.grid(True)\n",
    "plt.show()"
   ]
  },
  {
   "cell_type": "markdown",
   "id": "559f46ce-45c1-48e9-8be2-e4d7e4387f8c",
   "metadata": {},
   "source": [
    "Категория пользователей в контрольной и тестовой группе примерно одинаково"
   ]
  },
  {
   "cell_type": "code",
   "execution_count": 7,
   "id": "f354e039-01cb-4b62-9ba8-77ffcf4db7a1",
   "metadata": {},
   "outputs": [
    {
     "data": {
      "image/png": "[encoded data removed]",
      "text/plain": [
       "<Figure size 1000x500 with 1 Axes>"
      ]
     },
     "metadata": {},
     "output_type": "display_data"
    }
   ],
   "source": [
    "data_device = data.groupby(['group', 'device'])['device'].count().unstack()\n",
    "data_device.plot(kind='bar', figsize=(10, 5))\n",
    "\n",
    "plt.legend(loc='upper right')  # или просто plt.legend()\n",
    "\n",
    "# Дополнительные настройки\n",
    "plt.xlabel('Вид девайса')\n",
    "plt.ylabel('Количество пользователей')\n",
    "plt.title('График с использованием девайса с которого сидели пользователи')\n",
    "plt.grid(True)\n",
    "plt.show()"
   ]
  },
  {
   "cell_type": "markdown",
   "id": "680ac330-49ba-457a-972e-fd9fe2dbee22",
   "metadata": {},
   "source": [
    "Количество пользователей, которые пользовались магазином в тестовой и контрольной группе примерно одинаково"
   ]
  },
  {
   "cell_type": "code",
   "execution_count": 8,
   "id": "cc3aabb3-40c5-4aaa-8d93-3ecaaedd9fb1",
   "metadata": {},
   "outputs": [
    {
     "data": {
      "text/html": [
       "<div>\n",
       "<style scoped>\n",
       "    .dataframe tbody tr th:only-of-type {\n",
       "        vertical-align: middle;\n",
       "    }\n",
       "\n",
       "    .dataframe tbody tr th {\n",
       "        vertical-align: top;\n",
       "    }\n",
       "\n",
       "    .dataframe thead th {\n",
       "        text-align: right;\n",
       "    }\n",
       "</style>\n",
       "<table border=\"1\" class=\"dataframe\">\n",
       "  <thead>\n",
       "    <tr style=\"text-align: right;\">\n",
       "      <th></th>\n",
       "      <th>device</th>\n",
       "      <th>desktop</th>\n",
       "      <th>mobile</th>\n",
       "    </tr>\n",
       "    <tr>\n",
       "      <th>group</th>\n",
       "      <th>user_category</th>\n",
       "      <th></th>\n",
       "      <th></th>\n",
       "    </tr>\n",
       "  </thead>\n",
       "  <tbody>\n",
       "    <tr>\n",
       "      <th rowspan=\"3\" valign=\"top\">Control</th>\n",
       "      <th>loyal</th>\n",
       "      <td>75</td>\n",
       "      <td>104</td>\n",
       "    </tr>\n",
       "    <tr>\n",
       "      <th>new</th>\n",
       "      <td>215</td>\n",
       "      <td>337</td>\n",
       "    </tr>\n",
       "    <tr>\n",
       "      <th>returning</th>\n",
       "      <td>108</td>\n",
       "      <td>177</td>\n",
       "    </tr>\n",
       "    <tr>\n",
       "      <th rowspan=\"3\" valign=\"top\">Test</th>\n",
       "      <th>loyal</th>\n",
       "      <td>72</td>\n",
       "      <td>123</td>\n",
       "    </tr>\n",
       "    <tr>\n",
       "      <th>new</th>\n",
       "      <td>187</td>\n",
       "      <td>322</td>\n",
       "    </tr>\n",
       "    <tr>\n",
       "      <th>returning</th>\n",
       "      <td>118</td>\n",
       "      <td>162</td>\n",
       "    </tr>\n",
       "  </tbody>\n",
       "</table>\n",
       "</div>"
      ],
      "text/plain": [
       "device                 desktop  mobile\n",
       "group   user_category                 \n",
       "Control loyal               75     104\n",
       "        new                215     337\n",
       "        returning          108     177\n",
       "Test    loyal               72     123\n",
       "        new                187     322\n",
       "        returning          118     162"
      ]
     },
     "execution_count": 8,
     "metadata": {},
     "output_type": "execute_result"
    }
   ],
   "source": [
    "data_device_user_mobile = data.groupby(['group', 'user_category', 'device'])['device'].count().unstack()\n",
    "data_device_user_mobile"
   ]
  },
  {
   "cell_type": "markdown",
   "id": "5e64fcb7-6646-4c58-acba-5d786d515e23",
   "metadata": {},
   "source": [
    "Большинство пользователей предпочитают посещать магазин через мобильные устройства.\n",
    "У новых пользователей больше всего посещений через мобильные устройства. Возвращающиеся пользователи на втором месте по использованию мобильных телефонов для соврешения покупок в онлайн магазине. "
   ]
  },
  {
   "cell_type": "code",
   "execution_count": 9,
   "id": "94473d37-fb65-4ad3-92a4-646653e2c388",
   "metadata": {},
   "outputs": [
    {
     "data": {
      "image/png": "[encoded data removed]",
      "text/plain": [
       "<Figure size 1000x500 with 1 Axes>"
      ]
     },
     "metadata": {},
     "output_type": "display_data"
    }
   ],
   "source": [
    "data_funnel = data.groupby('group')[['visited_homepage', 'clicked_recommendation', 'added_to_cart', 'purchased']].sum()\n",
    "data_funnel.plot(kind='bar', figsize=(10, 5))\n",
    "\n",
    "plt.legend(loc='upper right')  # или просто plt.legend()\n",
    "\n",
    "# Дополнительные настройки\n",
    "plt.xlabel('Вид девайса')\n",
    "plt.ylabel('Количество пользователей')\n",
    "plt.title('Воронка действий магазина')\n",
    "plt.grid(True)\n",
    "plt.show()"
   ]
  },
  {
   "cell_type": "markdown",
   "id": "6833f61f-46a3-417d-82ed-28ad45419bfe",
   "metadata": {},
   "source": [
    "После пременения новой рекомендательной системы увеличилось количетсво кликов по рекомендательным товарам, увеличилось количество добавлений товаров в корзину, а также увеличось количество продаж."
   ]
  },
  {
   "cell_type": "markdown",
   "id": "d935e60e-a562-4b84-941a-8ccf319db055",
   "metadata": {},
   "source": [
    "# Расчет метрик"
   ]
  },
  {
   "cell_type": "markdown",
   "id": "505e59df-6776-4a06-8c0d-b05ca7677cbb",
   "metadata": {},
   "source": [
    "<b>Конверсия контрольной группы</b>"
   ]
  },
  {
   "cell_type": "code",
   "execution_count": 10,
   "id": "7099f48f-83fb-432e-a9b9-ba3d605d4904",
   "metadata": {},
   "outputs": [
    {
     "name": "stdout",
     "output_type": "stream",
     "text": [
      "Конверсия из просмотра главной страницы в клик товаров из рекомендаций: 31.75%\n",
      "Конверсия из просмотра главной страницы в добавление товаров в корзину: 18.50%\n",
      "Конверсия из просмотра главной страницы в оформление заказа: 14.12%\n"
     ]
    }
   ],
   "source": [
    "data_control_conv = data[data['group'] == 'Control']\n",
    "conv1 = (data_control_conv['purchased'].sum() / data_control_conv['visited_homepage'].sum()) * 100\n",
    "conv2 = (data_control_conv['added_to_cart'].sum() / data_control_conv['visited_homepage'].sum()) * 100\n",
    "conv3 = (data_control_conv['clicked_recommendation'].sum() / data_control_conv['visited_homepage'].sum()) * 100\n",
    "\n",
    "print(f\"Конверсия из просмотра главной страницы в клик товаров из рекомендаций: {conv3:.2f}%\")\n",
    "print(f\"Конверсия из просмотра главной страницы в добавление товаров в корзину: {conv2:.2f}%\")\n",
    "print(f\"Конверсия из просмотра главной страницы в оформление заказа: {conv1:.2f}%\")"
   ]
  },
  {
   "cell_type": "markdown",
   "id": "fd3d4836-f22e-4645-b0a8-1b68efa00d2d",
   "metadata": {},
   "source": [
    "В контрольной выборке со старой рекомендательной системой с главной страницы до оформления заказа доходят 14.12% пользователей"
   ]
  },
  {
   "cell_type": "code",
   "execution_count": 11,
   "id": "2d69dd11-0b1b-4789-8ded-6b21dee555e4",
   "metadata": {},
   "outputs": [
    {
     "name": "stdout",
     "output_type": "stream",
     "text": [
      "Контрольная группа ():\n",
      "Главная → Клик: 31.8%\n",
      "Клик → Корзина: 58.3%\n",
      "Корзина → Покупка: 76.4%\n"
     ]
    }
   ],
   "source": [
    "# Данные тестовой группы\n",
    "data_control = data[data['group'] == 'Control']\n",
    "\n",
    "# 1. Кликнули на рекомендацию / зашли на главную\n",
    "conv_view_to_click = (data_control['clicked_recommendation'].sum() / data_control['visited_homepage'].sum()) * 100\n",
    "\n",
    "# 2. Добавили в корзину / кликнули на рекомендацию\n",
    "conv_click_to_cart = (data_control['added_to_cart'].sum() / data_control['clicked_recommendation'].sum()) * 100\n",
    "\n",
    "# 3. Купили / добавили в корзину\n",
    "conv_cart_to_purchase = (data_control['purchased'].sum() / data_control['added_to_cart'].sum()) * 100\n",
    "\n",
    "print(\"Контрольная группа ():\")\n",
    "print(f\"Главная → Клик: {conv_view_to_click:.1f}%\")\n",
    "print(f\"Клик → Корзина: {conv_click_to_cart:.1f}%\")\n",
    "print(f\"Корзина → Покупка: {conv_cart_to_purchase:.1f}%\")"
   ]
  },
  {
   "cell_type": "markdown",
   "id": "b600116f-f3eb-4220-8f9c-91ccb5a94173",
   "metadata": {},
   "source": [
    "31.8% просматирвают товары предложенные рекомендованные системой, из этих 31.8% , 58.3% добовляют рекомендованный заказ в корзину, а 76.4% из 58.3% выкупают товар."
   ]
  },
  {
   "cell_type": "code",
   "execution_count": 12,
   "id": "174d2ce0-24f5-40cf-b3dd-780290dffc2a",
   "metadata": {},
   "outputs": [
    {
     "name": "stdout",
     "output_type": "stream",
     "text": [
      "Средний доход с одного пользователя в контрольной группе: 561.3080708661417\n"
     ]
    }
   ],
   "source": [
    "# Средний доход с одного платящего\n",
    "ARPPU = data_control_conv['purchase_amount'].sum() / data_control_conv['purchased'].sum()\n",
    "# Доля пользователей в контрольной группе кто совершил покупку\n",
    "CR = data_control_conv['purchased'].sum() / len(data_control_conv)\n",
    "ARPU = ARPPU  * CR\n",
    "print(f\"Средний доход с одного пользователя в контрольной группе: {ARPU}\")"
   ]
  },
  {
   "cell_type": "markdown",
   "id": "fce44df7-4b0b-4cb0-a745-21abdf9e9a90",
   "metadata": {},
   "source": [
    "<b>Средний доход в контрольной группе с каждой категории клиентов</b>"
   ]
  },
  {
   "cell_type": "code",
   "execution_count": 13,
   "id": "2fd8fa82-6fd6-4299-917a-eb5a0ce9d836",
   "metadata": {},
   "outputs": [
    {
     "name": "stdout",
     "output_type": "stream",
     "text": [
      "Средний доход с одного пользователя в контрольной группе (новые пользователи): 614.9239130434783\n"
     ]
    }
   ],
   "source": [
    "user_new = data_control[data_control['user_category'] == 'new']\n",
    "ARPPU = user_new['purchase_amount'].sum() / user_new['purchased'].sum()\n",
    "# Доля пользователей в контрольной группе кто совершил покупку\n",
    "CR = user_new['purchased'].sum() / len(user_new)\n",
    "ARPU = ARPPU  * CR\n",
    "print(f\"Средний доход с одного пользователя в контрольной группе (новые пользователи): {ARPU}\")"
   ]
  },
  {
   "cell_type": "code",
   "execution_count": 14,
   "id": "bfa4d85d-2c18-4a1c-94fd-92f9d26845e8",
   "metadata": {},
   "outputs": [
    {
     "name": "stdout",
     "output_type": "stream",
     "text": [
      "Средний доход с одного пользователя в контрольной группе (лояльные пользователи): 430.67597765363126\n"
     ]
    }
   ],
   "source": [
    "user_loyal = data_control[data_control['user_category'] == 'loyal']\n",
    "ARPPU = user_loyal['purchase_amount'].sum() / user_loyal['purchased'].sum()\n",
    "# Доля пользователей в контрольной группе кто совершил покупку\n",
    "CR = user_loyal['purchased'].sum() / len(user_loyal)\n",
    "ARPU = ARPPU  * CR\n",
    "print(f\"Средний доход с одного пользователя в контрольной группе (лояльные пользователи): {ARPU}\")"
   ]
  },
  {
   "cell_type": "code",
   "execution_count": 15,
   "id": "5f13dbda-3e24-4998-80b0-ba94a970c5c9",
   "metadata": {},
   "outputs": [
    {
     "name": "stdout",
     "output_type": "stream",
     "text": [
      "Средний доход с одного пользователя в контрольной группе (возвращающиеся пользователи): 539.5087719298247\n"
     ]
    }
   ],
   "source": [
    "user_returning = data_control[data_control['user_category'] == 'returning']\n",
    "ARPPU = user_returning['purchase_amount'].sum() / user_returning['purchased'].sum()\n",
    "# Доля пользователей в контрольной группе кто совершил покупку\n",
    "CR = user_returning['purchased'].sum() / len(user_returning)\n",
    "ARPU = ARPPU  * CR\n",
    "print(f\"Средний доход с одного пользователя в контрольной группе (возвращающиеся пользователи): {ARPU}\")"
   ]
  },
  {
   "cell_type": "markdown",
   "id": "360d79d7-3273-4d03-848d-39ce370f552a",
   "metadata": {},
   "source": [
    "<b>Анализ временной сессии контрольной группы</b>"
   ]
  },
  {
   "cell_type": "code",
   "execution_count": 16,
   "id": "178fb5c8-e235-41f8-be84-0f089c71657e",
   "metadata": {},
   "outputs": [
    {
     "name": "stdout",
     "output_type": "stream",
     "text": [
      "Среднее экранное время контрольной группы проведенное в интерент магазине 319.57\n"
     ]
    }
   ],
   "source": [
    "data_control = data[data['group'] == 'Control']\n",
    "print(f'Среднее экранное время контрольной группы проведенное в интерент магазине {data_control['session_duration_sec'].mean():.2f}')"
   ]
  },
  {
   "cell_type": "code",
   "execution_count": 17,
   "id": "793b29d3-c658-475d-a67c-349f38eb32ce",
   "metadata": {},
   "outputs": [
    {
     "name": "stdout",
     "output_type": "stream",
     "text": [
      "Среднее экранное время контрольной группы проведенное в интерент магазине с разных устройств\n"
     ]
    },
    {
     "data": {
      "text/plain": [
       "device\n",
       "desktop    319.165829\n",
       "mobile     319.836570\n",
       "Name: session_duration_sec, dtype: float64"
      ]
     },
     "execution_count": 17,
     "metadata": {},
     "output_type": "execute_result"
    }
   ],
   "source": [
    "data_control = data[data['group'] == 'Control']\n",
    "data_mean_time_device = data_control.groupby('device')['session_duration_sec'].mean()\n",
    "print(f\"Среднее экранное время контрольной группы проведенное в интерент магазине с разных устройств\")\n",
    "data_mean_time_device"
   ]
  },
  {
   "cell_type": "code",
   "execution_count": 18,
   "id": "fdca6701-0921-4844-923a-c6dd2728b548",
   "metadata": {},
   "outputs": [
    {
     "name": "stdout",
     "output_type": "stream",
     "text": [
      "Среденее экранное время для всех категорий пользователя с разных устройств\n"
     ]
    },
    {
     "data": {
      "text/html": [
       "<div>\n",
       "<style scoped>\n",
       "    .dataframe tbody tr th:only-of-type {\n",
       "        vertical-align: middle;\n",
       "    }\n",
       "\n",
       "    .dataframe tbody tr th {\n",
       "        vertical-align: top;\n",
       "    }\n",
       "\n",
       "    .dataframe thead th {\n",
       "        text-align: right;\n",
       "    }\n",
       "</style>\n",
       "<table border=\"1\" class=\"dataframe\">\n",
       "  <thead>\n",
       "    <tr style=\"text-align: right;\">\n",
       "      <th>device</th>\n",
       "      <th>desktop</th>\n",
       "      <th>mobile</th>\n",
       "    </tr>\n",
       "    <tr>\n",
       "      <th>user_category</th>\n",
       "      <th></th>\n",
       "      <th></th>\n",
       "    </tr>\n",
       "  </thead>\n",
       "  <tbody>\n",
       "    <tr>\n",
       "      <th>loyal</th>\n",
       "      <td>318.786667</td>\n",
       "      <td>314.682692</td>\n",
       "    </tr>\n",
       "    <tr>\n",
       "      <th>new</th>\n",
       "      <td>324.739535</td>\n",
       "      <td>317.338279</td>\n",
       "    </tr>\n",
       "    <tr>\n",
       "      <th>returning</th>\n",
       "      <td>308.333333</td>\n",
       "      <td>327.621469</td>\n",
       "    </tr>\n",
       "  </tbody>\n",
       "</table>\n",
       "</div>"
      ],
      "text/plain": [
       "device            desktop      mobile\n",
       "user_category                        \n",
       "loyal          318.786667  314.682692\n",
       "new            324.739535  317.338279\n",
       "returning      308.333333  327.621469"
      ]
     },
     "execution_count": 18,
     "metadata": {},
     "output_type": "execute_result"
    }
   ],
   "source": [
    "data_control = data[data['group'] == 'Control']\n",
    "data_mean_time_device_users = data_control.groupby(['user_category', 'device'])['session_duration_sec'].mean().unstack()\n",
    "print(\"Среденее экранное время для всех категорий пользователя с разных устройств\") \n",
    "data_mean_time_device_users"
   ]
  },
  {
   "cell_type": "markdown",
   "id": "27a2c5cb-c72d-4098-b9c1-c04f98435646",
   "metadata": {},
   "source": [
    "<b>Конверсия тестовой группы</b>"
   ]
  },
  {
   "cell_type": "code",
   "execution_count": 19,
   "id": "5addba98-efe8-4652-8380-850d6c29b29d",
   "metadata": {},
   "outputs": [
    {
     "name": "stdout",
     "output_type": "stream",
     "text": [
      "Конверсия из просмотра главной страницы в клик товаров из рекомендаций: 49.75%\n",
      "Конверсия из просмотра главной страницы в добавление товаров в корзину: 29.98%\n",
      "Конверсия из просмотра главной страницы в оформление заказа: 19.53%\n"
     ]
    }
   ],
   "source": [
    "data_test_conv = data[data['group'] == 'Test']\n",
    "conv1 = (data_test_conv['purchased'].sum() / data_test_conv['visited_homepage'].sum()) * 100\n",
    "conv2 = (data_test_conv['added_to_cart'].sum() / data_test_conv['visited_homepage'].sum()) * 100\n",
    "conv3 = (data_test_conv['clicked_recommendation'].sum() / data_test_conv['visited_homepage'].sum()) * 100\n",
    "\n",
    "print(f\"Конверсия из просмотра главной страницы в клик товаров из рекомендаций: {conv3:.2f}%\")\n",
    "print(f\"Конверсия из просмотра главной страницы в добавление товаров в корзину: {conv2:.2f}%\")\n",
    "print(f\"Конверсия из просмотра главной страницы в оформление заказа: {conv1:.2f}%\")"
   ]
  },
  {
   "cell_type": "markdown",
   "id": "92dd6be9-df0d-4e7a-afa8-5dba020b1957",
   "metadata": {},
   "source": [
    "В контрольной выборке со старой рекомендательной системой с главной страницы до оформления заказа доходят 19.53% пользователей"
   ]
  },
  {
   "cell_type": "code",
   "execution_count": 20,
   "id": "13168fb8-a6b3-4d43-99ed-a74c81015e6a",
   "metadata": {},
   "outputs": [
    {
     "name": "stdout",
     "output_type": "stream",
     "text": [
      "Тестовая группа (B):\n",
      "Главная → Клик: 49.8%\n",
      "Клик → Корзина: 60.2%\n",
      "Корзина → Покупка: 65.1%\n"
     ]
    }
   ],
   "source": [
    "# Данные тестовой группы\n",
    "data_test = data[data['group'] == 'Test']\n",
    "\n",
    "# 1. Кликнули на рекомендацию / зашли на главную\n",
    "conv_view_to_click = (data_test['clicked_recommendation'].sum() / data_test['visited_homepage'].sum()) * 100\n",
    "\n",
    "# 2. Добавили в корзину / кликнули на рекомендацию\n",
    "conv_click_to_cart = (data_test['added_to_cart'].sum() / data_test['clicked_recommendation'].sum()) * 100\n",
    "\n",
    "# 3. Купили / добавили в корзину\n",
    "conv_cart_to_purchase = (data_test['purchased'].sum() / data_test['added_to_cart'].sum()) * 100\n",
    "\n",
    "print(\"Тестовая группа (B):\")\n",
    "print(f\"Главная → Клик: {conv_view_to_click:.1f}%\")\n",
    "print(f\"Клик → Корзина: {conv_click_to_cart:.1f}%\")\n",
    "print(f\"Корзина → Покупка: {conv_cart_to_purchase:.1f}%\")"
   ]
  },
  {
   "cell_type": "markdown",
   "id": "31ab80b7-8217-48aa-8e29-77feac571af3",
   "metadata": {},
   "source": [
    "После внедрения новой рекомендательной системы, 49.8% просматирвают товары предложенные новой рекомендованные системой, из этих 49.8% , 60.2% добовляют рекомендованный заказ в корзину, а 65.1% из 60.2% выкупают товар.\n"
   ]
  },
  {
   "cell_type": "markdown",
   "id": "8848885c-d362-4fe0-83ce-0a85ffb2287e",
   "metadata": {},
   "source": [
    "<b>Средний доход в тестовой группе с каждой категории клиентов</b>"
   ]
  },
  {
   "cell_type": "code",
   "execution_count": 21,
   "id": "1dffef5d-b7cf-4e03-8d78-effd610f3d7e",
   "metadata": {},
   "outputs": [
    {
     "name": "stdout",
     "output_type": "stream",
     "text": [
      "Средний доход с одного пользователя: в тестовой группе 793.9705284552846\n"
     ]
    }
   ],
   "source": [
    "# Средний доход с одного платящего\n",
    "ARPPU = data_test_conv['purchase_amount'].sum() / data_test_conv['purchased'].sum()\n",
    "# Доля пользователей в контрольной группе кто совершил покупку\n",
    "CR = data_test_conv['purchased'].sum() / len(data_test_conv)\n",
    "ARPU = ARPPU  * CR\n",
    "print(f\"Средний доход с одного пользователя: в тестовой группе {ARPU}\")"
   ]
  },
  {
   "cell_type": "code",
   "execution_count": 22,
   "id": "db849c20-89fc-42ed-a299-22f352f025d0",
   "metadata": {},
   "outputs": [
    {
     "name": "stdout",
     "output_type": "stream",
     "text": [
      "Средний доход с одного пользователя в тестовой группе (новые пользователи): 841.795677799607\n"
     ]
    }
   ],
   "source": [
    "user_new = data_test[data_test['user_category'] == 'new']\n",
    "ARPPU = user_new['purchase_amount'].sum() / user_new['purchased'].sum()\n",
    "# Доля пользователей в контрольной группе кто совершил покупку\n",
    "CR = user_new['purchased'].sum() / len(user_new)\n",
    "ARPU = ARPPU  * CR\n",
    "print(f\"Средний доход с одного пользователя в тестовой группе (новые пользователи): {ARPU}\")"
   ]
  },
  {
   "cell_type": "code",
   "execution_count": 23,
   "id": "e053c8f8-de9a-4909-b2c3-e8adac9058fe",
   "metadata": {},
   "outputs": [
    {
     "name": "stdout",
     "output_type": "stream",
     "text": [
      "Средний доход с одного пользователя в тестовой группе (возвращающиеся пользователи): 703.3071428571428\n"
     ]
    }
   ],
   "source": [
    "user_returning = data_test[data_test['user_category'] == 'returning']\n",
    "ARPPU = user_returning['purchase_amount'].sum() / user_returning['purchased'].sum()\n",
    "# Доля пользователей в контрольной группе кто совершил покупку\n",
    "CR = user_returning['purchased'].sum() / len(user_returning)\n",
    "ARPU = ARPPU  * CR\n",
    "print(f\"Средний доход с одного пользователя в тестовой группе (возвращающиеся пользователи): {ARPU}\")"
   ]
  },
  {
   "cell_type": "code",
   "execution_count": 24,
   "id": "bac27010-75c9-4a67-aa40-e7bba7960cec",
   "metadata": {},
   "outputs": [
    {
     "name": "stdout",
     "output_type": "stream",
     "text": [
      "Средний доход с одного пользователя в тестовой группе (лояльные пользователи): 799.3179487179488\n"
     ]
    }
   ],
   "source": [
    "user_loyal = data_test[data_test['user_category'] == 'loyal']\n",
    "ARPPU = user_loyal['purchase_amount'].sum() / user_loyal['purchased'].sum()\n",
    "# Доля пользователей в контрольной группе кто совершил покупку\n",
    "CR = user_loyal['purchased'].sum() / len(user_loyal)\n",
    "ARPU = ARPPU  * CR\n",
    "print(f\"Средний доход с одного пользователя в тестовой группе (лояльные пользователи): {ARPU}\")"
   ]
  },
  {
   "cell_type": "markdown",
   "id": "19b9f0cc-309e-4120-9207-5fb31cbcbab1",
   "metadata": {},
   "source": [
    "<b>Анализ временной сессии тестовой группы</b>"
   ]
  },
  {
   "cell_type": "code",
   "execution_count": 25,
   "id": "628bb2b3-a2aa-4c7d-8631-595adf7a2ca1",
   "metadata": {},
   "outputs": [
    {
     "name": "stdout",
     "output_type": "stream",
     "text": [
      "Среднее экранное время контрольной группы проведенное в интерент магазине 316.90\n"
     ]
    }
   ],
   "source": [
    "data_test = data[data['group'] == 'Test']\n",
    "print(f'Среднее экранное время контрольной группы проведенное в интерент магазине {data_test['session_duration_sec'].mean():.2f}')"
   ]
  },
  {
   "cell_type": "code",
   "execution_count": 26,
   "id": "c7a33e93-6623-4348-b1de-812ec8785413",
   "metadata": {},
   "outputs": [
    {
     "name": "stdout",
     "output_type": "stream",
     "text": [
      "Среднее экранное время тестовой группе проведенное в интерент магазине с разных устройств\n"
     ]
    },
    {
     "data": {
      "text/plain": [
       "device\n",
       "desktop    317.830239\n",
       "mobile     316.319605\n",
       "Name: session_duration_sec, dtype: float64"
      ]
     },
     "execution_count": 26,
     "metadata": {},
     "output_type": "execute_result"
    }
   ],
   "source": [
    "data_test = data[data['group'] == 'Test']\n",
    "data_mean_time_device = data_test.groupby('device')['session_duration_sec'].mean()\n",
    "print(f\"Среднее экранное время тестовой группе проведенное в интерент магазине с разных устройств\")\n",
    "data_mean_time_device"
   ]
  },
  {
   "cell_type": "code",
   "execution_count": 27,
   "id": "56e0c4dc-cae1-4576-b264-4edc940816ea",
   "metadata": {},
   "outputs": [
    {
     "name": "stdout",
     "output_type": "stream",
     "text": [
      "Среденее экранное время для всех категорий пользователя с разных устройств\n"
     ]
    },
    {
     "data": {
      "text/html": [
       "<div>\n",
       "<style scoped>\n",
       "    .dataframe tbody tr th:only-of-type {\n",
       "        vertical-align: middle;\n",
       "    }\n",
       "\n",
       "    .dataframe tbody tr th {\n",
       "        vertical-align: top;\n",
       "    }\n",
       "\n",
       "    .dataframe thead th {\n",
       "        text-align: right;\n",
       "    }\n",
       "</style>\n",
       "<table border=\"1\" class=\"dataframe\">\n",
       "  <thead>\n",
       "    <tr style=\"text-align: right;\">\n",
       "      <th>device</th>\n",
       "      <th>desktop</th>\n",
       "      <th>mobile</th>\n",
       "    </tr>\n",
       "    <tr>\n",
       "      <th>user_category</th>\n",
       "      <th></th>\n",
       "      <th></th>\n",
       "    </tr>\n",
       "  </thead>\n",
       "  <tbody>\n",
       "    <tr>\n",
       "      <th>loyal</th>\n",
       "      <td>318.583333</td>\n",
       "      <td>298.227642</td>\n",
       "    </tr>\n",
       "    <tr>\n",
       "      <th>new</th>\n",
       "      <td>329.122995</td>\n",
       "      <td>324.236025</td>\n",
       "    </tr>\n",
       "    <tr>\n",
       "      <th>returning</th>\n",
       "      <td>299.474576</td>\n",
       "      <td>314.320988</td>\n",
       "    </tr>\n",
       "  </tbody>\n",
       "</table>\n",
       "</div>"
      ],
      "text/plain": [
       "device            desktop      mobile\n",
       "user_category                        \n",
       "loyal          318.583333  298.227642\n",
       "new            329.122995  324.236025\n",
       "returning      299.474576  314.320988"
      ]
     },
     "execution_count": 27,
     "metadata": {},
     "output_type": "execute_result"
    }
   ],
   "source": [
    "data_test = data[data['group'] == 'Test']\n",
    "data_mean_time_device_users = data_test.groupby(['user_category', 'device'])['session_duration_sec'].mean().unstack()\n",
    "print(\"Среденее экранное время для всех категорий пользователя с разных устройств\") \n",
    "data_mean_time_device_users"
   ]
  },
  {
   "cell_type": "markdown",
   "id": "c5172040-9a0f-4529-bbb5-eca2d8d7e6fe",
   "metadata": {},
   "source": [
    "<b>Вывод: </b>после внедрения новой рекомендательной системы у нас повысилась конверсия кликов по рекомендованным товарам на 17.95%. Повысилась конверсия добавления товара в корзину на 1.9%. <b>Упала конверсия покупок на 11.3%</b>  \n",
    "\n",
    "\n",
    "Средний доход с каждой категории клиентов увеличился после внедрения новой рекомендательной системы:\n",
    "\n",
    "- Средний доход среди новых пользователей увеличился на 226.9 рублей\n",
    "- Средний доход среди лояльных пользователей увеличился на 368.7 рублей\n",
    "- Средний доход среди возвращающихся пользователей увеличился на 163.8 рублей\n",
    "\n",
    "\n",
    "Среднее время временной сессии практически не изменился до и после внедрения новой рекомендательной системы\n",
    "\n",
    "Видим увеличения среденего дохода на пользователя и на категорию клиентов после внедрения новой рекомендательной системы."
   ]
  },
  {
   "cell_type": "markdown",
   "id": "61d37d6f-cccf-486a-977a-835d30f70ab8",
   "metadata": {},
   "source": [
    "# A/B тесты"
   ]
  },
  {
   "cell_type": "markdown",
   "id": "68fb0118-c9ae-4e6b-91e5-8eab0d6b337e",
   "metadata": {},
   "source": [
    "## Формирование гипотез"
   ]
  },
  {
   "cell_type": "markdown",
   "id": "d93b64af-a069-416c-976f-c973be6043ee",
   "metadata": {},
   "source": [
    "<b>Проведение A/B тестов</b>"
   ]
  },
  {
   "cell_type": "markdown",
   "id": "6d771451-ab17-4707-99c9-e6547100f34f",
   "metadata": {},
   "source": [
    "Насколько стат. значимы наши результаты проведенного нами анализа?\n",
    "\n",
    "1. <b>Проверим стат значим ли средний доход на пользователя до и после внедрения новой рекомендательной системы</b>\n",
    "\n",
    "<b>H0:</b> Внедрение новой рекомендательной системы в среднем не повысила доходность\n",
    "\n",
    "<b>H1:</b> Внедрение новой рекомендательной системы в среднем повысила доходность"
   ]
  },
  {
   "cell_type": "markdown",
   "id": "16230684-7c3f-4174-941a-3c001a2f1461",
   "metadata": {},
   "source": [
    "<b>Выбор статистического теста</b>"
   ]
  },
  {
   "cell_type": "markdown",
   "id": "fa962f4f-08e5-4c06-bf2e-51c47e459c2c",
   "metadata": {},
   "source": [
    "T-test\n",
    "\n",
    "<b>Условия T-test:</b> \n",
    "- Нормальное распределение контрольной/тестовой группы\n",
    "- Равенство дисперсий контрольная/тестовая группа"
   ]
  },
  {
   "cell_type": "code",
   "execution_count": 28,
   "id": "1f434300-70f7-4f5f-ba25-823489f36fa6",
   "metadata": {},
   "outputs": [
    {
     "name": "stdout",
     "output_type": "stream",
     "text": [
      "P-значения теста Шапиро-Уилка: 0.000 (до), 0.000 (после)\n",
      "P-значение теста Ливена: 0.010\n"
     ]
    }
   ],
   "source": [
    "data_control = data[data['group'] == 'Control']\n",
    "data_test = data[data['group'] == 'Test']\n",
    "# Проверка нормальности\n",
    "_, p_before = stats.shapiro(data_control['purchase_amount'])\n",
    "_, p_after = stats.shapiro(data_test['purchase_amount'])\n",
    "print(f\"P-значения теста Шапиро-Уилка: {p_before:.3f} (до), {p_after:.3f} (после)\")\n",
    "\n",
    "# Проверка равенства дисперсий\n",
    "_, p_var = stats.levene(data_control['purchase_amount'], data_test['purchase_amount'])\n",
    "print(f\"P-значение теста Ливена: {p_var:.3f}\")"
   ]
  },
  {
   "cell_type": "markdown",
   "id": "fc7a6e2e-3dcc-4a8a-aab8-bb430553acb5",
   "metadata": {},
   "source": [
    "Нарушены оба условия, применять T-test <b>нельзя</b>, в таком случае альтернативой служит непараметрический тест Манна-Уитни"
   ]
  },
  {
   "cell_type": "markdown",
   "id": "fc5c9380-595b-4550-a16f-20e08d7bc699",
   "metadata": {},
   "source": [
    "Тест Манна-Уитни"
   ]
  },
  {
   "cell_type": "code",
   "execution_count": 29,
   "id": "92aefbfb-ea25-4424-bef0-2649d1597587",
   "metadata": {},
   "outputs": [
    {
     "name": "stdout",
     "output_type": "stream",
     "text": [
      "\n",
      "Результаты теста Манна-Уитни:\n",
      "U-статистика = 523895.0\n",
      "P-значение = 0.0009\n",
      "Отвергаем H0: разница статистически значима\n"
     ]
    }
   ],
   "source": [
    "u_stat, p_mann = stats.mannwhitneyu(\n",
    "    data_test['purchase_amount'], \n",
    "    data_control['purchase_amount'],\n",
    "    alternative='greater'  # односторонняя альтернатива, так как проверяем повысился ли доход после внедрения новой системы\n",
    ")\n",
    "\n",
    "print(f\"\\nРезультаты теста Манна-Уитни:\")\n",
    "print(f\"U-статистика = {u_stat:.1f}\")\n",
    "print(f\"P-значение = {p_mann:.4f}\")\n",
    "\n",
    "# Критическое значение при alpha=0.05\n",
    "alpha = 0.05\n",
    "if p_mann < alpha:\n",
    "    print(\"Отвергаем H0: разница статистически значима\")\n",
    "else:\n",
    "    print(\"Не отвергаем H0: разница не значима\")"
   ]
  },
  {
   "cell_type": "code",
   "execution_count": 30,
   "id": "e619da92-0382-4f31-99d8-e3fb9678a6b2",
   "metadata": {},
   "outputs": [
    {
     "name": "stdout",
     "output_type": "stream",
     "text": [
      "Мощность теста: 0.994\n"
     ]
    }
   ],
   "source": [
    "from statsmodels.stats.power import TTestIndPower\n",
    "\n",
    "effect_size = 0.2\n",
    "alpha = 0.05      \n",
    "nobs1 = len(data_control)  \n",
    "nobs2 = len(data_test)     \n",
    "ratio = nobs2 / nobs1      \n",
    "\n",
    "analysis = TTestIndPower()\n",
    "power = analysis.solve_power(effect_size=effect_size, nobs1=nobs1, alpha=alpha, ratio=ratio)\n",
    "\n",
    "print(f\"Мощность теста: {power:.3f}\")"
   ]
  },
  {
   "cell_type": "markdown",
   "id": "9a16495d-a880-454b-a7fc-2cd4bbdf18a8",
   "metadata": {},
   "source": [
    "<b>Вывод:</b> новая рекомендательная система всреднем увеличила доход"
   ]
  },
  {
   "cell_type": "markdown",
   "id": "c543023f-c6d3-423e-b131-fa02fbe9dd39",
   "metadata": {},
   "source": [
    "2. <b>Проверим стат значимо ли среднее экранное время проведенное пользователем до и после внедрения новой рекомендательной системы</b>\n",
    "\n",
    "<b>H0:</b> Внедрение новой рекомендательной системы не увеличила экранное время пользователя после внедрения системы\n",
    "\n",
    "<b>H1:</b> Внедрение новой рекомендательной системы увеличило экранное время пользователей после внедрения системы"
   ]
  },
  {
   "cell_type": "markdown",
   "id": "f4556244-3c71-4973-aef5-89d2749863ee",
   "metadata": {},
   "source": [
    "<b>Выбор статистического теста</b>"
   ]
  },
  {
   "cell_type": "markdown",
   "id": "99596c8f-cfd8-4adb-862e-26c035bf8679",
   "metadata": {},
   "source": [
    "T-test\n",
    "\n",
    "<b>Условия T-test:</b> \n",
    "- Нормальное распределение контрольной/тестовой группы\n",
    "- Равенство дисперсий контрольная/тестовая группа"
   ]
  },
  {
   "cell_type": "code",
   "execution_count": 31,
   "id": "8e8a70b3-6ee8-47cf-92a1-6a02f8127a06",
   "metadata": {},
   "outputs": [
    {
     "name": "stdout",
     "output_type": "stream",
     "text": [
      "P-значения теста Шапиро-Уилка: 0.000 (до), 0.000 (после)\n",
      "P-значение теста Ливена: 0.594\n"
     ]
    }
   ],
   "source": [
    "data_control = data[data['group'] == 'Control']\n",
    "data_test = data[data['group'] == 'Test']\n",
    "_, p_before = stats.shapiro(data_control['session_duration_sec'])\n",
    "_, p_after = stats.shapiro(data_test['session_duration_sec'])\n",
    "print(f\"P-значения теста Шапиро-Уилка: {p_before:.3f} (до), {p_after:.3f} (после)\")\n",
    "\n",
    "_, p_var = stats.levene(data_control['session_duration_sec'], data_test['session_duration_sec'])\n",
    "print(f\"P-значение теста Ливена: {p_var:.3f}\")"
   ]
  },
  {
   "cell_type": "markdown",
   "id": "69ab5e7a-bd8e-4311-9be2-797227d05648",
   "metadata": {},
   "source": [
    "Нарушено условие о распределение данных, применять T-test <b>нельзя</b>, в таком случае альтернативой служит непараметрический тест Манна-Уитни"
   ]
  },
  {
   "cell_type": "markdown",
   "id": "cb4c0de6-1463-49c5-8c76-3826984f40d3",
   "metadata": {},
   "source": [
    "Тест Манна-Уитни"
   ]
  },
  {
   "cell_type": "code",
   "execution_count": 32,
   "id": "5a9a29f5-9452-43eb-8f74-7c72d7dcaedd",
   "metadata": {},
   "outputs": [
    {
     "name": "stdout",
     "output_type": "stream",
     "text": [
      "\n",
      "Результаты теста Манна-Уитни:\n",
      "U-статистика = 495188.0\n",
      "P-значение = 0.6416\n",
      "Не отвергаем H0: разница не значима\n"
     ]
    }
   ],
   "source": [
    "u_stat, p_mann = stats.mannwhitneyu(\n",
    "    data_test['session_duration_sec'], \n",
    "    data_control['session_duration_sec'],\n",
    "    alternative='greater'  \n",
    ")\n",
    "\n",
    "print(f\"\\nРезультаты теста Манна-Уитни:\")\n",
    "print(f\"U-статистика = {u_stat:.1f}\")\n",
    "print(f\"P-значение = {p_mann:.4f}\")\n",
    "\n",
    "alpha = 0.05\n",
    "if p_mann < alpha:\n",
    "    print(\"Отвергаем H0: разница статистически значима\")\n",
    "    print(\"Новая система увеличила экранное время\")\n",
    "else:\n",
    "    print(\"Не отвергаем H0: разница не значима\")"
   ]
  },
  {
   "cell_type": "code",
   "execution_count": 33,
   "id": "27aeea1a-5cb4-4074-8943-79e2cecce50f",
   "metadata": {},
   "outputs": [
    {
     "name": "stdout",
     "output_type": "stream",
     "text": [
      "Мощность теста: 0.994\n"
     ]
    }
   ],
   "source": [
    "from statsmodels.stats.power import TTestIndPower\n",
    "\n",
    "effect_size = 0.2  \n",
    "alpha = 0.05      \n",
    "nobs1 = len(data_control)  \n",
    "nobs2 = len(data_test)     \n",
    "ratio = nobs2 / nobs1      \n",
    "\n",
    "analysis = TTestIndPower()\n",
    "power = analysis.solve_power(effect_size=effect_size, nobs1=nobs1, alpha=alpha, ratio=ratio)\n",
    "\n",
    "print(f\"Мощность теста: {power:.3f}\")"
   ]
  },
  {
   "cell_type": "markdown",
   "id": "c0f193da-61d4-4733-b26c-be1cdc594935",
   "metadata": {},
   "source": [
    "<b>Вывод:</b> новая рекомендательная система не повлияла на длительность экранного времени"
   ]
  },
  {
   "cell_type": "markdown",
   "id": "daa546a4-092d-4076-b2ce-45c77b5a629f",
   "metadata": {},
   "source": [
    "3. <b>Проверим стат значим ли результат конверсии до и после внедрения новой рекомендательной системы</b>"
   ]
  },
  {
   "cell_type": "markdown",
   "id": "cb9175f7-566b-4125-905b-3ca971745a3b",
   "metadata": {},
   "source": [
    "<b>H0:</b> Внедрение новой рекомендательной системы не увеличила конверсию покупок в воронке после внедрения системы\n",
    "\n",
    "<b>H1:</b> Внедрение новой рекомендательной системы увеличило конверсию покупок в воронке после внедрения системы"
   ]
  },
  {
   "cell_type": "markdown",
   "id": "7f45349b-f7aa-42ef-8b98-6b36de8a57d3",
   "metadata": {},
   "source": [
    "<b>Выбор статистического теста</b>"
   ]
  },
  {
   "cell_type": "markdown",
   "id": "296aab22-91dd-41ec-b8e0-dc2734ecac46",
   "metadata": {},
   "source": [
    "Z-test"
   ]
  },
  {
   "cell_type": "code",
   "execution_count": 34,
   "id": "1e90cb7e-ceb7-4da9-bb26-6eb622f498ae",
   "metadata": {},
   "outputs": [
    {
     "name": "stdout",
     "output_type": "stream",
     "text": [
      "Этап 'Главная → Клик':\n",
      "  Z-статистика = -7.335, p-value = 0.0000\n",
      "  Разница значима (p < 0.05)\n"
     ]
    }
   ],
   "source": [
    "import numpy as np\n",
    "from statsmodels.stats.proportion import proportions_ztest\n",
    "\n",
    "n1_view = data_control['visited_homepage'].sum()  # всего заходов\n",
    "x1_click = data_control['clicked_recommendation'].sum()  # кликов\n",
    "\n",
    "n2_view = data_test['visited_homepage'].sum()\n",
    "x2_click = data_test['clicked_recommendation'].sum()\n",
    "\n",
    "# Z-тест\n",
    "counts = np.array([x1_click, x2_click])\n",
    "nobs = np.array([n1_view, n2_view])\n",
    "z_stat, p_value = proportions_ztest(counts, nobs, alternative='two-sided')\n",
    "\n",
    "print(f\"Этап 'Главная → Клик':\")\n",
    "print(f\"  Z-статистика = {z_stat:.3f}, p-value = {p_value:.4f}\")\n",
    "if p_value < 0.05:\n",
    "    print(\"  Разница значима (p < 0.05)\")\n",
    "else:\n",
    "    print(\"  Разница незначима. Нашановая рекомендательная система повысила количество кликов.\")"
   ]
  },
  {
   "cell_type": "code",
   "execution_count": 35,
   "id": "f329c379-5a5f-4ac3-b6fd-c1112a3075d8",
   "metadata": {},
   "outputs": [
    {
     "name": "stdout",
     "output_type": "stream",
     "text": [
      "Мощность теста: 1.000\n"
     ]
    }
   ],
   "source": [
    "from statsmodels.stats.power import zt_ind_solve_power\n",
    "from statsmodels.stats.proportion import proportion_effectsize\n",
    "\n",
    "x1_click = 323  \n",
    "n1_view = 1016  \n",
    "x2_click = 490  \n",
    "n2_view = 984   \n",
    "\n",
    "p1 = x1_click / n1_view  \n",
    "p2 = x2_click / n2_view  \n",
    "\n",
    "effect_size = proportion_effectsize(p1, p2)  \n",
    "\n",
    "power = zt_ind_solve_power(\n",
    "    effect_size=effect_size,\n",
    "    nobs1=n1_view,\n",
    "    alpha=0.05,\n",
    "    ratio=n2_view/n1_view,\n",
    "    alternative='two-sided'\n",
    ")\n",
    "\n",
    "print(f\"Мощность теста: {power:.3f}\")  "
   ]
  },
  {
   "cell_type": "code",
   "execution_count": 36,
   "id": "4253ceab-89e9-4376-8576-375d6816202b",
   "metadata": {},
   "outputs": [
    {
     "name": "stdout",
     "output_type": "stream",
     "text": [
      "Этап 'Клик → Корзина':\n",
      "  Z-статистика = -0.503, p-value = 0.6148\n",
      "  Разница незначима. Рекомендательная система не улучшила количество добавлений заказов в корзине.\n"
     ]
    }
   ],
   "source": [
    "import numpy as np\n",
    "from statsmodels.stats.proportion import proportions_ztest\n",
    "\n",
    "# Данные для этапа \"Главная → Клик\"\n",
    "# Контроль (A)\n",
    "n1_view = data_control['clicked_recommendation'].sum() \n",
    "x1_click = data_control['added_to_cart'].sum() \n",
    "# Тест (B)\n",
    "n2_view = data_test['clicked_recommendation'].sum()\n",
    "x2_click = data_test['added_to_cart'].sum()\n",
    "\n",
    "# Z-тест\n",
    "counts = np.array([x1_click, x2_click])\n",
    "nobs = np.array([n1_view, n2_view])\n",
    "z_stat, p_value = proportions_ztest(counts, nobs, alternative='two-sided')\n",
    "\n",
    "print(f\"Этап 'Клик → Корзина':\")\n",
    "print(f\"  Z-статистика = {z_stat:.3f}, p-value = {p_value:.4f}\")\n",
    "if p_value < 0.05:\n",
    "    print(\"  Разница значима (p < 0.05)\")\n",
    "else:\n",
    "    print(\"  Разница незначима. Рекомендательная система не улучшила количество добавлений заказов в корзине.\")"
   ]
  },
  {
   "cell_type": "code",
   "execution_count": 37,
   "id": "38c60a88-c629-4189-b822-accb04d6461d",
   "metadata": {},
   "outputs": [
    {
     "name": "stdout",
     "output_type": "stream",
     "text": [
      "Мощность теста: 1.000\n"
     ]
    }
   ],
   "source": [
    "from statsmodels.stats.power import zt_ind_solve_power\n",
    "from statsmodels.stats.proportion import proportion_effectsize\n",
    "\n",
    "\n",
    "x1_click = 188  \n",
    "n1_view = 1016  \n",
    "x2_click = 295  \n",
    "n2_view = 984   \n",
    "\n",
    "\n",
    "p1 = x1_click / n1_view  \n",
    "p2 = x2_click / n2_view  \n",
    "\n",
    "effect_size = proportion_effectsize(p1, p2)  \n",
    "\n",
    "\n",
    "power = zt_ind_solve_power(\n",
    "    effect_size=effect_size,\n",
    "    nobs1=n1_view,\n",
    "    alpha=0.05,\n",
    "    ratio=n2_view/n1_view,\n",
    "    alternative='two-sided'\n",
    ")\n",
    "\n",
    "print(f\"Мощность теста: {power:.3f}\")  # Выведет: 1.000"
   ]
  },
  {
   "cell_type": "code",
   "execution_count": 38,
   "id": "36dcbe80-f4a5-4795-a4f9-dc8bad7601a2",
   "metadata": {},
   "outputs": [
    {
     "name": "stdout",
     "output_type": "stream",
     "text": [
      "Этап 'Корзина → Покупка':\n",
      "  Z-статистика = 2.329, p-value = 0.0199\n",
      "  Разница значима (p < 0.05)\n"
     ]
    }
   ],
   "source": [
    "import numpy as np\n",
    "from statsmodels.stats.proportion import proportions_ztest\n",
    "\n",
    "# Данные для этапа \"Главная → Клик\"\n",
    "# Контроль (A)\n",
    "n1_view = data_control['added_to_cart'].sum()  # всего заходов\n",
    "x1_click = data_control['purchased'].sum()  # кликов\n",
    "\n",
    "# Тест (B)\n",
    "n2_view = data_test['added_to_cart'].sum()\n",
    "x2_click = data_test['purchased'].sum()\n",
    "\n",
    "# Z-тест\n",
    "counts = np.array([x1_click, x2_click])\n",
    "nobs = np.array([n1_view, n2_view])\n",
    "z_stat, p_value = proportions_ztest(counts, nobs, alternative='two-sided')\n",
    "\n",
    "print(f\"Этап 'Корзина → Покупка':\")\n",
    "print(f\"  Z-статистика = {z_stat:.3f}, p-value = {p_value:.4f}\")\n",
    "if p_value < 0.05:\n",
    "    print(\"  Разница значима (p < 0.05)\")\n",
    "else:\n",
    "    print(\"  Разница незначима. Конверсия продаж увеличилась после внедрений новой рекомендательной системы.\")"
   ]
  },
  {
   "cell_type": "code",
   "execution_count": 39,
   "id": "4840fa95-ebe7-4096-96c5-b8b1e53700fa",
   "metadata": {},
   "outputs": [
    {
     "name": "stdout",
     "output_type": "stream",
     "text": [
      "Мощность теста: 0.892\n"
     ]
    }
   ],
   "source": [
    "from statsmodels.stats.power import zt_ind_solve_power\n",
    "from statsmodels.stats.proportion import proportion_effectsize\n",
    "\n",
    "\n",
    "x1_click = 144  \n",
    "n1_view = 1016   \n",
    "x2_click = 192  \n",
    "n2_view = 984    \n",
    "p1 = x1_click / n1_view \n",
    "p2 = x2_click / n2_view  \n",
    "\n",
    "effect_size = proportion_effectsize(p1, p2) \n",
    "power = zt_ind_solve_power(\n",
    "    effect_size=effect_size,\n",
    "    nobs1=n1_view,\n",
    "    alpha=0.05,\n",
    "    ratio=n2_view/n1_view,\n",
    "    alternative='two-sided'\n",
    ")\n",
    "\n",
    "print(f\"Мощность теста: {power:.3f}\") "
   ]
  },
  {
   "cell_type": "markdown",
   "id": "56458185-f0da-4ff8-a95f-95d6f0586e24",
   "metadata": {},
   "source": [
    "# Вывод"
   ]
  },
  {
   "cell_type": "markdown",
   "id": "84cae0cf-917d-4c32-9044-09616c2b2b3f",
   "metadata": {},
   "source": [
    "По результатам проведенного анализа, можно сделать выводы:\n",
    "\n",
    "- Среднего чека увеличилась после внедрения новой рекомендательной системы.\n",
    "\n",
    "- Среднее время посещения в приложении не изменилось после внедрения рекосендательной системы\n",
    "\n",
    "- Увеличилась конверсия Главная → Клик и Корзина → Покупка."
   ]
  },
  {
   "cell_type": "code",
   "execution_count": null,
   "id": "79713008-99bf-4d57-a7c3-01ae074f6a6d",
   "metadata": {},
   "outputs": [],
   "source": []
  },
  {
   "cell_type": "code",
   "execution_count": null,
   "id": "39b98346-1f10-4dbc-9318-469dcdd01cd4",
   "metadata": {},
   "outputs": [],
   "source": []
  },
  {
   "cell_type": "code",
   "execution_count": null,
   "id": "43b78474-1bca-4ad1-8751-0c118a0ab06c",
   "metadata": {},
   "outputs": [],
   "source": []
  }
 ],
 "metadata": {
  "kernelspec": {
   "display_name": "Python 3 (ipykernel)",
   "language": "python",
   "name": "python3"
  },
  "language_info": {
   "codemirror_mode": {
    "name": "ipython",
    "version": 3
   },
   "file_extension": ".py",
   "mimetype": "text/x-python",
   "name": "python",
   "nbconvert_exporter": "python",
   "pygments_lexer": "ipython3",
   "version": "3.12.7"
  }
 },
 "nbformat": 4,
 "nbformat_minor": 5
}
